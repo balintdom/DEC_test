{
 "cells": [
  {
   "cell_type": "code",
   "execution_count": 16,
   "metadata": {},
   "outputs": [
    {
     "name": "stdout",
     "output_type": "stream",
     "text": [
      "b'macska\\tNOUN\\tCase=Acc|Number=Sing|Number[psor]=Sing|Person[psor]=3\\r\\n'\n",
      "b'macska\\tNOUN\\tCase=Acc|Number=Sing|Number[psor]=Sing|Person[psor]=3\\r\\n'\n",
      "b'macska\\tNOUN\\tCase=Acc|Number=Sing|Number[psor]=Sing|Person[psor]=3\\r\\n'\n",
      "b'macska\\tNOUN\\tCase=Acc|Number=Sing|Number[psor]=Sing|Person[psor]=3\\r\\n'\n",
      "b'macska\\tNOUN\\tCase=Acc|Number=Sing|Number[psor]=Sing|Person[psor]=3\\r\\n'\n",
      "b'macska\\tNOUN\\tCase=Acc|Number=Sing|Number[psor]=Sing|Person[psor]=3\\r\\n'\n",
      "b'macska\\tNOUN\\tCase=Acc|Number=Sing|Number[psor]=Sing|Person[psor]=3\\r\\n'\n",
      "b'macska\\tNOUN\\tCase=Acc|Number=Sing|Number[psor]=Sing|Person[psor]=3\\r\\n'\n",
      "2.65 s ± 90 ms per loop (mean ± std. dev. of 7 runs, 1 loop each)\n"
     ]
    }
   ],
   "source": [
    "%%timeit\n",
    "import subprocess\n",
    "\n",
    "print(subprocess.check_output(['java', '-Xmx1G', '-jar', 'magyarlanc-3.0.jar', '-mode', 'morana', '-spelling', 'macskáját']))"
   ]
  }
 ],
 "metadata": {
  "kernelspec": {
   "display_name": "Python 3",
   "language": "python",
   "name": "python3"
  },
  "language_info": {
   "codemirror_mode": {
    "name": "ipython",
    "version": 3
   },
   "file_extension": ".py",
   "mimetype": "text/x-python",
   "name": "python",
   "nbconvert_exporter": "python",
   "pygments_lexer": "ipython3",
   "version": "3.6.4"
  }
 },
 "nbformat": 4,
 "nbformat_minor": 2
}
